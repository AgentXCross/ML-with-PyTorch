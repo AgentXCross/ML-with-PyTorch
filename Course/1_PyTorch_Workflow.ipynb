{
 "cells": [
  {
   "cell_type": "markdown",
   "id": "391fd591",
   "metadata": {},
   "source": [
    "# 1: PyTorch Workflow"
   ]
  },
  {
   "cell_type": "code",
   "execution_count": 3,
   "id": "90111764",
   "metadata": {},
   "outputs": [],
   "source": [
    "topics = {\n",
    "    1: 'Data Preparation',\n",
    "    2: 'Build Model',\n",
    "    3: 'Fitting the Model to Data',\n",
    "    4: 'Making Predictions and Evaluating the Model',\n",
    "    5: 'Saving and Loading a Model',\n",
    "    6: 'Putting it all together'\n",
    "}"
   ]
  },
  {
   "cell_type": "code",
   "execution_count": 4,
   "id": "d2a180fa",
   "metadata": {},
   "outputs": [],
   "source": [
    "import torch\n",
    "from torch import nn #nn contains building blocks for neural nets\n",
    "import matplotlib.pyplot as plt\n",
    "%matplotlib inline"
   ]
  },
  {
   "cell_type": "markdown",
   "id": "bc9b5dc8",
   "metadata": {},
   "source": [
    "### 1. Data Preparation\n",
    "* Get data into numerical representations\n",
    "* Develop a model to learn the patterns in the numerical representations"
   ]
  },
  {
   "cell_type": "code",
   "execution_count": 6,
   "id": "3579c3ff",
   "metadata": {},
   "outputs": [
    {
     "data": {
      "text/plain": [
       "(tensor([[0.0000],\n",
       "         [0.0200],\n",
       "         [0.0400],\n",
       "         [0.0600],\n",
       "         [0.0800],\n",
       "         [0.1000],\n",
       "         [0.1200],\n",
       "         [0.1400],\n",
       "         [0.1600],\n",
       "         [0.1800]]),\n",
       " tensor([[0.3000],\n",
       "         [0.3140],\n",
       "         [0.3280],\n",
       "         [0.3420],\n",
       "         [0.3560],\n",
       "         [0.3700],\n",
       "         [0.3840],\n",
       "         [0.3980],\n",
       "         [0.4120],\n",
       "         [0.4260]]),\n",
       " 50,\n",
       " 50)"
      ]
     },
     "execution_count": 6,
     "metadata": {},
     "output_type": "execute_result"
    }
   ],
   "source": [
    "#Create a linear regression formula to make a straight line with known parameters\n",
    "weight = 0.7 #Slope\n",
    "bias = 0.3 #Intercept\n",
    "\n",
    "start = 0\n",
    "end = 1\n",
    "step = 0.02\n",
    "X = torch.arange(start, end, step).unsqueeze(dim = 1)\n",
    "y = weight * X + bias\n",
    "\n",
    "X[:10], y[:10], len(X), len(y)"
   ]
  },
  {
   "cell_type": "markdown",
   "id": "c7922e94",
   "metadata": {},
   "source": [
    "### Data Splitting into Training, Validation, and Test Sets"
   ]
  },
  {
   "cell_type": "code",
   "execution_count": 9,
   "id": "475efefa",
   "metadata": {},
   "outputs": [
    {
     "data": {
      "text/plain": [
       "(torch.Size([40, 1]),\n",
       " torch.Size([40, 1]),\n",
       " torch.Size([10, 1]),\n",
       " torch.Size([40, 1]))"
      ]
     },
     "execution_count": 9,
     "metadata": {},
     "output_type": "execute_result"
    }
   ],
   "source": [
    "#Create a 80/20 train/test split\n",
    "\n",
    "train_split = int(0.8 * len(X))\n",
    "X_train, y_train = X[:train_split], y[:train_split]\n",
    "X_test, y_test = X[train_split:], y[train_split:]\n",
    "\n",
    "X_train.shape, y_train.shape, X_test.shape, y_train.shape"
   ]
  },
  {
   "cell_type": "code",
   "execution_count": null,
   "id": "d9ceb084",
   "metadata": {},
   "outputs": [
    {
     "data": {
      "image/png": "[encoded data removed]",
      "text/plain": [
       "<Figure size 700x500 with 1 Axes>"
      ]
     },
     "metadata": {},
     "output_type": "display_data"
    }
   ],
   "source": [
    "def plot_predictions(train_data = X_train,\n",
    "                     train_labels = y_train,\n",
    "                     test_data = X_test,\n",
    "                     test_labels = y_test,\n",
    "                     predictions = None):\n",
    "    #Plots training data, test data, and compares predictions\n",
    "    plt.figure(figsize = (7, 5))\n",
    "\n",
    "    #Training Data\n",
    "    plt.scatter(train_data, train_labels, c = 'b', s = 4, label = 'Training Data')\n",
    "\n",
    "    #Test Data\n",
    "    plt.scatter(test_data, test_labels, c = 'g', s = 4, label = 'Testing Data')\n",
    "\n",
    "    #Are there predictions?\n",
    "    if predictions is not None:\n",
    "        plt.scatter(test_data, predictions, c = 'r', s = 4, label = 'Predictions')\n",
    "\n",
    "    #Legend\n",
    "    plt.legend(prop = {'size': 14})\n",
    "plot_predictions()"
   ]
  },
  {
   "cell_type": "markdown",
   "id": "38f0bd09",
   "metadata": {},
   "source": [
    "### 2. Build the Linear Regression Model\n",
    "What the model does:\n",
    "* Start with random values for weight and bias\n",
    "* Look at training data and adjust the random values to better represent the data\n",
    "\n",
    "2 Main Algorithms:\n",
    "1. Gradient Descent\n",
    "2. Backpropagation"
   ]
  },
  {
   "cell_type": "code",
   "execution_count": 506,
   "id": "9c41e097",
   "metadata": {},
   "outputs": [],
   "source": [
    "#Create linear regression model class\n",
    "class LinearRegressionModel(nn.Module): #Class inherits from nn.Module which contains building blocks for neural nets\n",
    "    def __init__(self):\n",
    "        super().__init__()\n",
    "        #Initialize the models parameters\n",
    "        self.weights = nn.Parameter(torch.randn(1,\n",
    "                                                requires_grad = True, #Allows parameter to be updated through gradient descent\n",
    "                                                dtype = torch.float))\n",
    "        self.bias = nn.Parameter(torch.randn(1,\n",
    "                                             requires_grad = True,\n",
    "                                             dtype = torch.float))\n",
    "        #Forward method to define the computation in the model\n",
    "    def forward(self, x: torch.Tensor) -> torch.Tensor: #x is the input data\n",
    "        return self.weights * x + self.bias"
   ]
  },
  {
   "cell_type": "markdown",
   "id": "7dad84c1",
   "metadata": {},
   "source": [
    "### PyTorch Model Buidling Essentials\n",
    "* torch.nn - contains all building blocks for computational graphs (like a neural nets)\n",
    "* torch.nn.Parameter - what paramters the model should try to learn\n",
    "* torch.nn.Module - the base class for all neural network modules, if you subclass it, you should overwrite the forward() function\n",
    "* torch.optim - where optimizers live, they help with gradient descent\n",
    "* def forward() - most overwrite it, this method defines what happens in the forward computation"
   ]
  },
  {
   "cell_type": "markdown",
   "id": "f6822369",
   "metadata": {},
   "source": [
    "### Checking contents of PyTorch Models\n",
    "Check parameters using .parameters()"
   ]
  },
  {
   "cell_type": "code",
   "execution_count": 507,
   "id": "5b304ec3",
   "metadata": {},
   "outputs": [
    {
     "data": {
      "text/plain": [
       "[Parameter containing:\n",
       " tensor([0.3367], requires_grad=True),\n",
       " Parameter containing:\n",
       " tensor([0.1288], requires_grad=True)]"
      ]
     },
     "execution_count": 507,
     "metadata": {},
     "output_type": "execute_result"
    }
   ],
   "source": [
    "#Create a random seed\n",
    "torch.manual_seed(42)\n",
    "\n",
    "#Create an instance of the model \n",
    "model_0 = LinearRegressionModel()\n",
    "\n",
    "list(model_0.parameters())"
   ]
  },
  {
   "cell_type": "code",
   "execution_count": 508,
   "id": "d732958f",
   "metadata": {},
   "outputs": [
    {
     "data": {
      "text/plain": [
       "OrderedDict([('weights', tensor([0.3367])), ('bias', tensor([0.1288]))])"
      ]
     },
     "execution_count": 508,
     "metadata": {},
     "output_type": "execute_result"
    }
   ],
   "source": [
    "#List named parameters\n",
    "model_0.state_dict()"
   ]
  },
  {
   "cell_type": "markdown",
   "id": "703123c4",
   "metadata": {},
   "source": [
    "### Making predictions using torch.inference_mode()\n",
    "\n",
    "How well can the model predict y_test using X_test.\n",
    "\n",
    "When you pass data through the model, it runs through the forward method"
   ]
  },
  {
   "cell_type": "code",
   "execution_count": 509,
   "id": "2411d53d",
   "metadata": {},
   "outputs": [
    {
     "data": {
      "text/plain": [
       "tensor([[0.3982],\n",
       "        [0.4049],\n",
       "        [0.4116],\n",
       "        [0.4184],\n",
       "        [0.4251],\n",
       "        [0.4318],\n",
       "        [0.4386],\n",
       "        [0.4453],\n",
       "        [0.4520],\n",
       "        [0.4588]])"
      ]
     },
     "execution_count": 509,
     "metadata": {},
     "output_type": "execute_result"
    }
   ],
   "source": [
    "#Make predictions with model\n",
    "with torch.inference_mode(): #On inference mode, gradients are not tracked anymore which speeds up computations\n",
    "    y_preds = model_0(X_test)\n",
    "y_preds"
   ]
  },
  {
   "cell_type": "code",
   "execution_count": 510,
   "id": "d6667f27",
   "metadata": {},
   "outputs": [
    {
     "data": {
      "image/png": "[encoded data removed]",
      "text/plain": [
       "<Figure size 700x500 with 1 Axes>"
      ]
     },
     "metadata": {},
     "output_type": "display_data"
    }
   ],
   "source": [
    "#Plot baseline predictions\n",
    "plot_predictions(predictions = y_preds)"
   ]
  },
  {
   "cell_type": "markdown",
   "id": "aab1bd45",
   "metadata": {},
   "source": [
    "### 3. Train Model\n",
    "\n",
    "Move the model from a poor representation of the data to a better representation of the data.\n",
    "\n",
    "One way to predict how poor a models predictions are is using a loss function.\n",
    "\n",
    "Things we need to train:\n",
    "* Loss Function: Function to measure how wrong predictions are\n",
    "* Optimizer: Adjusts model parameters to improve the loss function\n",
    "\n",
    "In Pytorch, we need a traning loop and a testing loop"
   ]
  },
  {
   "cell_type": "code",
   "execution_count": 511,
   "id": "b681bfde",
   "metadata": {},
   "outputs": [
    {
     "data": {
      "text/plain": [
       "OrderedDict([('weights', tensor([0.3367])), ('bias', tensor([0.1288]))])"
      ]
     },
     "execution_count": 511,
     "metadata": {},
     "output_type": "execute_result"
    }
   ],
   "source": [
    "model_0.state_dict()"
   ]
  },
  {
   "cell_type": "code",
   "execution_count": 512,
   "id": "8fbaa70a",
   "metadata": {},
   "outputs": [],
   "source": [
    "#Setup a loss function (L1 Loss / MAE)\n",
    "loss_fn = nn.L1Loss()\n",
    "\n",
    "#Setup an optimizer (Stochastic Gradient Descent)\n",
    "optimizer = torch.optim.SGD(\n",
    "                            params = model_0.parameters(),\n",
    "                            lr = 0.01, #Learning rate, most important hyperparameter\n",
    "                            ) "
   ]
  },
  {
   "cell_type": "markdown",
   "id": "1e8459d0",
   "metadata": {},
   "source": [
    "### 4. Building a Training and Testing Loop in PyTorch\n",
    "0. Loop through the data\n",
    "1. Forward pass (Data moving through the forward method(s))\n",
    "2. Calculate the loss\n",
    "3. Optimizer zero grad\n",
    "4. Loss Backward - move backward through the network to calculate the gradients of each parameter with respect to the loss (**Backpropagation**)\n",
    "5. Optimizer Step - use optimizer to adjust model parameters to try and improve the loss (**Gradient Descent**)"
   ]
  },
  {
   "cell_type": "code",
   "execution_count": 513,
   "id": "2f6ed01a",
   "metadata": {},
   "outputs": [
    {
     "name": "stdout",
     "output_type": "stream",
     "text": [
      "Epoch: 0, Loss: 0.31288135051727295, Test Loss: 0.48106518387794495\n",
      "OrderedDict({'weights': tensor([0.3406]), 'bias': tensor([0.1388])})\n",
      "Epoch: 10, Loss: 0.1976713389158249, Test Loss: 0.3463551998138428\n",
      "OrderedDict({'weights': tensor([0.3796]), 'bias': tensor([0.2388])})\n",
      "Epoch: 20, Loss: 0.08908725529909134, Test Loss: 0.2172965705394745\n",
      "OrderedDict({'weights': tensor([0.4184]), 'bias': tensor([0.3333])})\n",
      "Epoch: 30, Loss: 0.053148530423641205, Test Loss: 0.14464019238948822\n",
      "OrderedDict({'weights': tensor([0.4512]), 'bias': tensor([0.3768])})\n",
      "Epoch: 40, Loss: 0.04543796554207802, Test Loss: 0.11360953748226166\n",
      "OrderedDict({'weights': tensor([0.4748]), 'bias': tensor([0.3868])})\n",
      "Epoch: 50, Loss: 0.04167863354086876, Test Loss: 0.09919948130846024\n",
      "OrderedDict({'weights': tensor([0.4938]), 'bias': tensor([0.3843])})\n",
      "Epoch: 60, Loss: 0.03818932920694351, Test Loss: 0.08886633813381195\n",
      "OrderedDict({'weights': tensor([0.5116]), 'bias': tensor([0.3788])})\n",
      "Epoch: 70, Loss: 0.03476089984178543, Test Loss: 0.0805937722325325\n",
      "OrderedDict({'weights': tensor([0.5288]), 'bias': tensor([0.3718])})\n",
      "Epoch: 80, Loss: 0.03132382780313492, Test Loss: 0.07232122868299484\n",
      "OrderedDict({'weights': tensor([0.5459]), 'bias': tensor([0.3648])})\n",
      "Epoch: 90, Loss: 0.027887403964996338, Test Loss: 0.06473556160926819\n",
      "OrderedDict({'weights': tensor([0.5629]), 'bias': tensor([0.3573])})\n",
      "Epoch: 100, Loss: 0.024458955973386765, Test Loss: 0.056463055312633514\n",
      "OrderedDict({'weights': tensor([0.5800]), 'bias': tensor([0.3503])})\n",
      "Epoch: 110, Loss: 0.021020209416747093, Test Loss: 0.04819049686193466\n",
      "OrderedDict({'weights': tensor([0.5972]), 'bias': tensor([0.3433])})\n",
      "Epoch: 120, Loss: 0.01758546754717827, Test Loss: 0.04060482233762741\n",
      "OrderedDict({'weights': tensor([0.6141]), 'bias': tensor([0.3358])})\n",
      "Epoch: 130, Loss: 0.014155390672385693, Test Loss: 0.03233228251338005\n",
      "OrderedDict({'weights': tensor([0.6313]), 'bias': tensor([0.3288])})\n",
      "Epoch: 140, Loss: 0.010716589167714119, Test Loss: 0.024059753865003586\n",
      "OrderedDict({'weights': tensor([0.6485]), 'bias': tensor([0.3218])})\n",
      "Epoch: 150, Loss: 0.0072835348546504974, Test Loss: 0.016474086791276932\n",
      "OrderedDict({'weights': tensor([0.6654]), 'bias': tensor([0.3143])})\n",
      "Epoch: 160, Loss: 0.003851778106763959, Test Loss: 0.008201557211577892\n",
      "OrderedDict({'weights': tensor([0.6826]), 'bias': tensor([0.3073])})\n",
      "Epoch: 170, Loss: 0.00893248151987791, Test Loss: 0.005023092031478882\n",
      "OrderedDict({'weights': tensor([0.6951]), 'bias': tensor([0.2993])})\n",
      "Epoch: 180, Loss: 0.00893248151987791, Test Loss: 0.005023092031478882\n",
      "OrderedDict({'weights': tensor([0.6951]), 'bias': tensor([0.2993])})\n",
      "Epoch: 190, Loss: 0.00893248151987791, Test Loss: 0.005023092031478882\n",
      "OrderedDict({'weights': tensor([0.6951]), 'bias': tensor([0.2993])})\n",
      "Epoch: 200, Loss: 0.00893248151987791, Test Loss: 0.005023092031478882\n",
      "OrderedDict({'weights': tensor([0.6951]), 'bias': tensor([0.2993])})\n",
      "Epoch: 210, Loss: 0.00893248151987791, Test Loss: 0.005023092031478882\n",
      "OrderedDict({'weights': tensor([0.6951]), 'bias': tensor([0.2993])})\n",
      "Epoch: 220, Loss: 0.00893248151987791, Test Loss: 0.005023092031478882\n",
      "OrderedDict({'weights': tensor([0.6951]), 'bias': tensor([0.2993])})\n",
      "Epoch: 230, Loss: 0.00893248151987791, Test Loss: 0.005023092031478882\n",
      "OrderedDict({'weights': tensor([0.6951]), 'bias': tensor([0.2993])})\n",
      "Epoch: 240, Loss: 0.00893248151987791, Test Loss: 0.005023092031478882\n",
      "OrderedDict({'weights': tensor([0.6951]), 'bias': tensor([0.2993])})\n"
     ]
    }
   ],
   "source": [
    "torch.manual_seed(42)\n",
    "#An epoch is one loop through the data\n",
    "epoch = 250\n",
    "\n",
    "###Tracking values\n",
    "epoch_count = []\n",
    "loss_values = []\n",
    "test_loss_values = []\n",
    "\n",
    "###Training\n",
    "#0. Loop through data\n",
    "for epoch in range(epoch):\n",
    "    #Set model to training mode\n",
    "    model_0.train() #Set all parameters that require gradients to require gradients\n",
    "\n",
    "    #1. Forward pass\n",
    "    y_pred = model_0(X_train)\n",
    "\n",
    "    #2. Calculate the loos\n",
    "    loss = loss_fn(y_pred, y_train)\n",
    "\n",
    "    #3. Optimizer Zero Grad\n",
    "    optimizer.zero_grad() #Zeroes the optimizer\n",
    "\n",
    "    #4. Perform backpropagation on the loss with respect to the parameters of the model\n",
    "    loss.backward()\n",
    "\n",
    "    #5. Step the optimizer (gradient descent)\n",
    "    optimizer.step() #Optimizer changes accumulate through the loop so it has to be zeroed in step 3\n",
    "\n",
    "    ###Testing\n",
    "    model_0.eval() #Turns off setting in model not needed for testing\n",
    "    with torch.inference_mode(): #Turns off gradient tracking\n",
    "        #1. Forward pass\n",
    "        test_pred = model_0(X_test)\n",
    "\n",
    "        #2. Calculate the loss\n",
    "        test_loss = loss_fn(test_pred, y_test)\n",
    "\n",
    "    if epoch % 10 == 0:\n",
    "        epoch_count.append(epoch)\n",
    "        loss_values.append(loss)\n",
    "        test_loss_values.append(test_loss)\n",
    "        print(f\"Epoch: {epoch}, Loss: {loss}, Test Loss: {test_loss}\")\n",
    "        print(model_0.state_dict())"
   ]
  },
  {
   "cell_type": "code",
   "execution_count": 514,
   "id": "be942d1a",
   "metadata": {},
   "outputs": [],
   "source": [
    "with torch.inference_mode():\n",
    "    y_preds_new = model_0(X_test)"
   ]
  },
  {
   "cell_type": "code",
   "execution_count": 515,
   "id": "592e7b81",
   "metadata": {},
   "outputs": [
    {
     "data": {
      "image/png": "[encoded data removed]",
      "text/plain": [
       "<Figure size 700x500 with 1 Axes>"
      ]
     },
     "metadata": {},
     "output_type": "display_data"
    }
   ],
   "source": [
    "plot_predictions(predictions = y_preds_new)"
   ]
  },
  {
   "cell_type": "code",
   "execution_count": 516,
   "id": "9db62cd7",
   "metadata": {},
   "outputs": [
    {
     "data": {
      "text/plain": [
       "OrderedDict([('weights', tensor([0.6990])), ('bias', tensor([0.3093]))])"
      ]
     },
     "execution_count": 516,
     "metadata": {},
     "output_type": "execute_result"
    }
   ],
   "source": [
    "model_0.state_dict()"
   ]
  },
  {
   "cell_type": "code",
   "execution_count": 522,
   "id": "3d4c7463",
   "metadata": {},
   "outputs": [
    {
     "data": {
      "image/png": "[encoded data removed]",
      "text/plain": [
       "<Figure size 640x480 with 1 Axes>"
      ]
     },
     "metadata": {},
     "output_type": "display_data"
    }
   ],
   "source": [
    "#Plot the loss curves\n",
    "import numpy as np\n",
    "plt.plot(torch.tensor(epoch_count).numpy(), torch.tensor(loss_values).numpy(), label = 'Train Loss')\n",
    "plt.plot(torch.tensor(epoch_count).numpy(), torch.tensor(test_loss_values).numpy(), label = 'Test Loss')\n",
    "plt.title('Train and Test Loss Curves')\n",
    "plt.ylabel('Loss')\n",
    "plt.xlabel('Epochs')\n",
    "plt.legend()\n",
    "plt.show()"
   ]
  },
  {
   "cell_type": "markdown",
   "id": "5a02de5c",
   "metadata": {},
   "source": [
    "### 5. Saving a Model in PyTorch\n",
    "3 main functions to save and load models in PyTorch\n",
    "1. `torch.save()` -> Saves the model in a Python pickle format\n",
    "2. `torch.load()` -> Load a saved PyTorch object\n",
    "3. `torch.nn.Module.load_state_dict()` -> Load a models saved state dictionary (parameters)"
   ]
  },
  {
   "cell_type": "code",
   "execution_count": 535,
   "id": "ff5de0ad",
   "metadata": {},
   "outputs": [],
   "source": [
    "#Saving PyTorch model\n",
    "from pathlib import Path\n",
    "\n",
    "#Create models directory\n",
    "MODEL_PATH = Path(\"models\")\n",
    "MODEL_PATH.mkdir(parents = True, exist_ok = True)\n",
    "\n",
    "#Create a model save path\n",
    "MODEL_NAME = '1_model_0.pth'\n",
    "MODEL_SAVE_PATH = MODEL_PATH / MODEL_NAME\n",
    "\n",
    "#Save the model state dict\n",
    "torch.save(model_0.state_dict(), MODEL_SAVE_PATH)"
   ]
  },
  {
   "cell_type": "code",
   "execution_count": null,
   "id": "3e47bf67",
   "metadata": {},
   "outputs": [
    {
     "data": {
      "text/plain": [
       "<All keys matched successfully>"
      ]
     },
     "execution_count": 538,
     "metadata": {},
     "output_type": "execute_result"
    }
   ],
   "source": [
    "#Load the model\n",
    "loaded_model_0 = LinearRegressionModel()\n",
    "\n",
    "#Load the saved state dict\n",
    "loaded_model_0.load_state_dict(torch.load(MODEL_SAVE_PATH))"
   ]
  },
  {
   "cell_type": "code",
   "execution_count": 539,
   "id": "587448d0",
   "metadata": {},
   "outputs": [
    {
     "data": {
      "text/plain": [
       "OrderedDict([('weights', tensor([0.6990])), ('bias', tensor([0.3093]))])"
      ]
     },
     "execution_count": 539,
     "metadata": {},
     "output_type": "execute_result"
    }
   ],
   "source": [
    "loaded_model_0.state_dict()"
   ]
  },
  {
   "cell_type": "code",
   "execution_count": 540,
   "id": "2469e6ba",
   "metadata": {},
   "outputs": [],
   "source": [
    "#Make predictions with loaded model\n",
    "loaded_model_0.eval()\n",
    "with torch.inference_mode():\n",
    "    loaded_model_preds = loaded_model_0(X_test)"
   ]
  },
  {
   "cell_type": "code",
   "execution_count": 541,
   "id": "15b0187b",
   "metadata": {},
   "outputs": [
    {
     "data": {
      "text/plain": [
       "tensor([[True],\n",
       "        [True],\n",
       "        [True],\n",
       "        [True],\n",
       "        [True],\n",
       "        [True],\n",
       "        [True],\n",
       "        [True],\n",
       "        [True],\n",
       "        [True]])"
      ]
     },
     "execution_count": 541,
     "metadata": {},
     "output_type": "execute_result"
    }
   ],
   "source": [
    "y_preds_new == loaded_model_preds"
   ]
  },
  {
   "cell_type": "markdown",
   "id": "b1a290a3",
   "metadata": {},
   "source": [
    "### 6. Putting it All Together"
   ]
  },
  {
   "cell_type": "code",
   "execution_count": 620,
   "id": "638de68b",
   "metadata": {},
   "outputs": [],
   "source": [
    "import torch \n",
    "from torch import nn\n",
    "import matplotlib.pyplot as plt"
   ]
  },
  {
   "cell_type": "code",
   "execution_count": 621,
   "id": "2e12f98c",
   "metadata": {},
   "outputs": [
    {
     "data": {
      "text/plain": [
       "'mps'"
      ]
     },
     "execution_count": 621,
     "metadata": {},
     "output_type": "execute_result"
    }
   ],
   "source": [
    "device = 'mps' if torch.backends.mps.is_available() else 'cpu'\n",
    "device"
   ]
  },
  {
   "cell_type": "code",
   "execution_count": 622,
   "id": "6cf57df0",
   "metadata": {},
   "outputs": [],
   "source": [
    "#Creating so data using y = weight * x + bias\n",
    "weight = 0.7\n",
    "bias = 0.4\n",
    "\n",
    "start = 0\n",
    "end = 1\n",
    "step = 0.02\n",
    "\n",
    "X = torch.arange(start, end, step)\n",
    "y = weight * X + bias"
   ]
  },
  {
   "cell_type": "code",
   "execution_count": 623,
   "id": "9dd74bf8",
   "metadata": {},
   "outputs": [],
   "source": [
    "#Split data\n",
    "train_split = int(0.8 * len(X))\n",
    "X_train, X_test = X[:train_split], X[train_split:]\n",
    "y_train, y_test = y[:train_split], y[train_split:]\n",
    "\n",
    "X_train = X_train.unsqueeze(1)\n",
    "X_test = X_test.unsqueeze(1)\n",
    "y_train = y_train.unsqueeze(1)\n",
    "y_test = y_test.unsqueeze(1)"
   ]
  },
  {
   "cell_type": "code",
   "execution_count": 624,
   "id": "f1e06861",
   "metadata": {},
   "outputs": [
    {
     "data": {
      "image/png": "[encoded data removed]",
      "text/plain": [
       "<Figure size 700x500 with 1 Axes>"
      ]
     },
     "metadata": {},
     "output_type": "display_data"
    }
   ],
   "source": [
    "#Plot Data\n",
    "plot_predictions(X_train, y_train, X_test, y_test)"
   ]
  },
  {
   "cell_type": "code",
   "execution_count": 625,
   "id": "59682ebf",
   "metadata": {},
   "outputs": [
    {
     "data": {
      "text/plain": [
       "(LinearRegressionModelV2(\n",
       "   (linear_layer): Linear(in_features=1, out_features=1, bias=True)\n",
       " ),\n",
       " OrderedDict([('linear_layer.weight', tensor([[0.7645]])),\n",
       "              ('linear_layer.bias', tensor([0.8300]))]))"
      ]
     },
     "execution_count": 625,
     "metadata": {},
     "output_type": "execute_result"
    }
   ],
   "source": [
    "#Building the linear model\n",
    "class LinearRegressionModelV2(nn.Module):\n",
    "    def __init__(self):\n",
    "        super().__init__()\n",
    "        #Use nn.Linear() for creating parameters\n",
    "        self.linear_layer = nn.Linear(in_features = 1, out_features = 1)\n",
    "    def forward(self, x: torch.Tensor) -> torch.Tensor:\n",
    "        return self.linear_layer(x)\n",
    "    \n",
    "torch.manual_seed(42)\n",
    "model_1 = LinearRegressionModelV2()\n",
    "model_1, model_1.state_dict()\n"
   ]
  },
  {
   "cell_type": "code",
   "execution_count": 626,
   "id": "296a2873",
   "metadata": {},
   "outputs": [
    {
     "data": {
      "text/plain": [
       "device(type='cpu')"
      ]
     },
     "execution_count": 626,
     "metadata": {},
     "output_type": "execute_result"
    }
   ],
   "source": [
    "next(model_1.parameters()).device"
   ]
  },
  {
   "cell_type": "code",
   "execution_count": 627,
   "id": "649b716d",
   "metadata": {},
   "outputs": [
    {
     "data": {
      "text/plain": [
       "device(type='mps', index=0)"
      ]
     },
     "execution_count": 627,
     "metadata": {},
     "output_type": "execute_result"
    }
   ],
   "source": [
    "model_1.to(device)\n",
    "next(model_1.parameters()).device"
   ]
  },
  {
   "cell_type": "code",
   "execution_count": 628,
   "id": "96fbbe64",
   "metadata": {},
   "outputs": [],
   "source": [
    "loss_fn = nn.L1Loss()\n",
    "optimizer = torch.optim.SGD(\n",
    "    params = model_1.parameters(),\n",
    "    lr = 0.01\n",
    "    )"
   ]
  },
  {
   "cell_type": "code",
   "execution_count": 629,
   "id": "4215166f",
   "metadata": {},
   "outputs": [
    {
     "name": "stdout",
     "output_type": "stream",
     "text": [
      "Epoch: 0, Loss: 0.4551779329776764, Test Loss: 0.4739762246608734\n",
      "Epoch: 20, Loss: 0.22475819289684296, Test Loss: 0.20455656945705414\n",
      "Epoch: 40, Loss: 0.017893975600600243, Test Loss: 0.034524619579315186\n",
      "Epoch: 60, Loss: 0.010405013337731361, Test Loss: 0.023519247770309448\n",
      "Epoch: 80, Loss: 0.0035350986290723085, Test Loss: 0.007661056704819202\n",
      "Epoch: 100, Loss: 0.006319505162537098, Test Loss: 0.009316968731582165\n",
      "Epoch: 120, Loss: 0.006319505162537098, Test Loss: 0.009316968731582165\n",
      "Epoch: 140, Loss: 0.006319505162537098, Test Loss: 0.009316968731582165\n",
      "Epoch: 160, Loss: 0.006319505162537098, Test Loss: 0.009316968731582165\n",
      "Epoch: 180, Loss: 0.006319505162537098, Test Loss: 0.009316968731582165\n"
     ]
    }
   ],
   "source": [
    "torch.manual_seed(42)\n",
    "\n",
    "epochs = 200\n",
    "\n",
    "X_train = X_train.to(device)\n",
    "X_test = X_test.to(device)\n",
    "y_train = y_train.to(device)\n",
    "y_test = y_test.to(device)\n",
    "\n",
    "for epoch in range(epochs):\n",
    "    model_1.train()\n",
    "\n",
    "    y_pred = model_1(X_train)\n",
    "\n",
    "    loss = loss_fn(y_pred, y_train)\n",
    "\n",
    "    optimizer.zero_grad()\n",
    "\n",
    "    loss.backward()\n",
    "\n",
    "    optimizer.step()\n",
    "\n",
    "    model_1.eval()\n",
    "    with torch.inference_mode():\n",
    "        test_pred = model_1(X_test)\n",
    "\n",
    "        test_loss = loss_fn(test_pred, y_test)\n",
    "    \n",
    "    if epoch % 20 == 0:\n",
    "        print(f\"Epoch: {epoch}, Loss: {loss}, Test Loss: {test_loss}\")"
   ]
  },
  {
   "cell_type": "code",
   "execution_count": 630,
   "id": "763d58e3",
   "metadata": {},
   "outputs": [
    {
     "data": {
      "text/plain": [
       "OrderedDict([('linear_layer.weight', tensor([[0.6957]], device='mps:0')),\n",
       "             ('linear_layer.bias', tensor([0.4080], device='mps:0'))])"
      ]
     },
     "execution_count": 630,
     "metadata": {},
     "output_type": "execute_result"
    }
   ],
   "source": [
    "model_1.state_dict()"
   ]
  },
  {
   "cell_type": "code",
   "execution_count": 638,
   "id": "bdc52206",
   "metadata": {},
   "outputs": [
    {
     "data": {
      "image/png": "[encoded data removed]",
      "text/plain": [
       "<Figure size 700x500 with 1 Axes>"
      ]
     },
     "metadata": {},
     "output_type": "display_data"
    }
   ],
   "source": [
    "model_1.eval()\n",
    "y_pred_new = model_1(X_test)\n",
    "y_pred_new = y_pred_new.cpu().detach().numpy().squeeze()\n",
    "X_train = X_train.cpu().detach().numpy()\n",
    "X_test = X_test.cpu().detach().numpy()\n",
    "y_train = y_train.cpu().detach().numpy()\n",
    "y_test = y_test.cpu().detach().numpy()\n",
    "plot_predictions(X_train, y_train, X_test, y_test, predictions = y_pred_new)"
   ]
  },
  {
   "cell_type": "code",
   "execution_count": 641,
   "id": "a293a479",
   "metadata": {},
   "outputs": [],
   "source": [
    "torch.save(model_1.state_dict(), 'models/1_model_1.pth')"
   ]
  },
  {
   "cell_type": "code",
   "execution_count": 642,
   "id": "b4e4660e",
   "metadata": {},
   "outputs": [
    {
     "data": {
      "text/plain": [
       "<All keys matched successfully>"
      ]
     },
     "execution_count": 642,
     "metadata": {},
     "output_type": "execute_result"
    }
   ],
   "source": [
    "loaded_model_1 = LinearRegressionModelV2()\n",
    "\n",
    "loaded_model_1.load_state_dict(torch.load('models/1_model_1.pth'))"
   ]
  },
  {
   "cell_type": "code",
   "execution_count": 644,
   "id": "f58ffa3a",
   "metadata": {},
   "outputs": [],
   "source": [
    "loaded_model_1.eval()\n",
    "y_loaded_preds = loaded_model_1(torch.from_numpy(X_test))"
   ]
  },
  {
   "cell_type": "code",
   "execution_count": 646,
   "id": "fda4d053",
   "metadata": {},
   "outputs": [
    {
     "data": {
      "image/png": "[encoded data removed]",
      "text/plain": [
       "<Figure size 700x500 with 1 Axes>"
      ]
     },
     "metadata": {},
     "output_type": "display_data"
    }
   ],
   "source": [
    "plot_predictions(X_train, y_train, X_test, y_test, predictions = y_loaded_preds.detach().numpy())"
   ]
  }
 ],
 "metadata": {
  "kernelspec": {
   "display_name": "venv (3.13.6)",
   "language": "python",
   "name": "python3"
  },
  "language_info": {
   "codemirror_mode": {
    "name": "ipython",
    "version": 3
   },
   "file_extension": ".py",
   "mimetype": "text/x-python",
   "name": "python",
   "nbconvert_exporter": "python",
   "pygments_lexer": "ipython3",
   "version": "3.13.6"
  }
 },
 "nbformat": 4,
 "nbformat_minor": 5
}
